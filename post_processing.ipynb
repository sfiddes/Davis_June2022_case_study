{
 "cells": [
  {
   "cell_type": "code",
   "execution_count": 1,
   "id": "1f42e0ad-3120-4df8-826e-990903a512a4",
   "metadata": {},
   "outputs": [],
   "source": [
    "import sys\n",
    "import os\n",
    "sys.path.append('/home/563/slf563/code/jk72/functions/')\n",
    "import matplotlib\n",
    "import matplotlib.pyplot as plt\n",
    "import matplotlib.colors as colors\n",
    "import numpy as np\n",
    "#from functions import * \n",
    "from datetime import datetime\n",
    "import xarray as xr"
   ]
  },
  {
   "cell_type": "code",
   "execution_count": 2,
   "id": "d43087a7-cf89-4c70-9b33-faf6af5c6adb",
   "metadata": {},
   "outputs": [],
   "source": [
    "dates = ['20220602T0000Z','20220603T0000Z','20220604T0000Z','20220605T0000Z']"
   ]
  },
  {
   "cell_type": "code",
   "execution_count": 3,
   "id": "6040fb38-ba59-4f7a-b44e-555cd28c1c85",
   "metadata": {
    "tags": []
   },
   "outputs": [],
   "source": [
    "job = 'dd992'\n",
    "runname = 'control'"
   ]
  },
  {
   "cell_type": "markdown",
   "id": "e452a859-9314-4f93-8cdf-414c8376a5fc",
   "metadata": {},
   "source": [
    "# For mixing ratios \n"
   ]
  },
  {
   "cell_type": "code",
   "execution_count": 4,
   "id": "9f354bc6-acfc-4746-8588-bbd2bc9175d0",
   "metadata": {},
   "outputs": [
    {
     "name": "stdout",
     "output_type": "stream",
     "text": [
      "0.3.0\n"
     ]
    }
   ],
   "source": [
    "data = xr.Dataset()\n",
    "for i,date in enumerate(dates): \n",
    "    fdir = '/scratch/jk72/slf563/UM_reg/output/{}/Regn1_resn_1_RAL3P2/{}/'.format(job,date)\n",
    "    #fdir = '/g/data/jk72/slf563/UM_reg/output/{}/Regn1_resn_1_RAL3P2/{}/'.format(job,date)\n",
    "    data1 = xr.open_dataset(fdir+'umnsaa_pc012_centralpoint.nc',)\n",
    "    data2 = xr.open_dataset(fdir+'umnsaa_pc018_centralpoint.nc',)\n",
    "    data3 = xr.open_dataset(fdir+'umnsaa_pc024_centralpoint.nc',)\n",
    "    data4 = xr.open_dataset(fdir+'umnsaa_pc030_centralpoint.nc',)\n",
    "    if i == 0: \n",
    "        data = xr.concat([data1,data2,data3,data4],dim = 'time')\n",
    "    else: \n",
    "        data = xr.concat([data,data1,data2,data3,data4],dim = 'time')\n",
    "    \n",
    "data = data.assign_coords(model_level_number=data.level_height)\n",
    "data = data.sel(model_level_number = slice(0,10000))\n",
    "data.mass_fraction_of_cloud_liquid_water_in_air[np.where(data.mass_fraction_of_cloud_liquid_water_in_air.values<0)]=0\n",
    "data.to_netcdf('/g/data/jk72/slf563/UM_reg/output/{}/processed/{}_mass+number_maxing_ratios_with_height_Davis.nc'.format(job,runname))"
   ]
  },
  {
   "cell_type": "markdown",
   "id": "75fcf709-34a8-4cd2-b83b-90a47b65af47",
   "metadata": {},
   "source": [
    "# For surface variables at Davis"
   ]
  },
  {
   "cell_type": "code",
   "execution_count": 5,
   "id": "b6fd5914-c49c-4298-bce3-51194782f323",
   "metadata": {},
   "outputs": [],
   "source": [
    "data = xr.Dataset()\n",
    "for i,date in enumerate(dates): \n",
    "    fdir = '/scratch/jk72/slf563/UM_reg/output/{}/Regn1_resn_1_RAL3P2/{}/'.format(job,date)\n",
    "    #fdir = '/g/data/jk72/slf563/UM_reg/output/{}/Regn1_resn_1_RAL3P2/{}/'.format(job,date)\n",
    "    data1 = xr.open_dataset(fdir+'umnsaa_pb012_centralpoint.nc',)\n",
    "    data2 = xr.open_dataset(fdir+'umnsaa_pb018_centralpoint.nc',)\n",
    "    data3 = xr.open_dataset(fdir+'umnsaa_pb024_centralpoint.nc',)\n",
    "    data4 = xr.open_dataset(fdir+'umnsaa_pb030_centralpoint.nc',)\n",
    "    if i == 0: \n",
    "        data = xr.concat([data1,data2,data3,data4],dim = 'time')\n",
    "    else: \n",
    "        data = xr.concat([data,data1,data2,data3,data4],dim = 'time')\n",
    "#data = data.sel(grid_latitude1=0,grid_longitude1=180,method='nearest')\n",
    "data.to_netcdf('/g/data/jk72/slf563/UM_reg/output/{}/processed/{}_met_at_surface_Davis.nc'.format(job,runname))"
   ]
  },
  {
   "cell_type": "markdown",
   "id": "dcaedc7e-465f-4f82-819f-977657474b11",
   "metadata": {},
   "source": [
    "# For met data with height  \n",
    "\n"
   ]
  },
  {
   "cell_type": "code",
   "execution_count": 6,
   "id": "4c3307e3-ed12-42b4-a01b-5d8518c56e87",
   "metadata": {},
   "outputs": [],
   "source": [
    "data = xr.Dataset()\n",
    "for i,date in enumerate(dates): \n",
    "    fdir = '/scratch/jk72/slf563/UM_reg/output/{}/Regn1_resn_1_RAL3P2/{}/'.format(job,date)\n",
    "    #fdir = '/g/data/jk72/slf563/UM_reg/output/{}/Regn1_resn_1_RAL3P2/{}/'.format(job,date)\n",
    "    data1 = xr.open_dataset(fdir+'umnsaa_pd012_centralpoint.nc',)\n",
    "    data2 = xr.open_dataset(fdir+'umnsaa_pd018_centralpoint.nc',)\n",
    "    data3 = xr.open_dataset(fdir+'umnsaa_pd024_centralpoint.nc',)\n",
    "    data4 = xr.open_dataset(fdir+'umnsaa_pd030_centralpoint.nc',)\n",
    "    if i == 0: \n",
    "        data = xr.concat([data1,data2,data3,data4],dim = 'time')\n",
    "    else: \n",
    "        data = xr.concat([data,data1,data2,data3,data4],dim = 'time')\n",
    "        \n",
    "data = data.assign_coords(model_level_number=data.level_height)\n",
    "data = data.assign_coords(model_level_number1=data.level_height1)\n",
    "#data = data.sel(grid_latitude1=0,grid_longitude1=180,method='nearest')\n",
    "data = data.sel(model_level_number = slice(0,10000))\n",
    "data = data.sel(model_level_number1 = slice(0,10000))\n",
    "data.to_netcdf('/g/data/jk72/slf563/UM_reg/output/{}/processed/{}_met_with_height_Davis.nc'.format(job,runname))"
   ]
  },
  {
   "cell_type": "markdown",
   "id": "e3d73166-235b-4854-bb5d-76ba33e409e1",
   "metadata": {},
   "source": [
    "# For met data at pressure levels in space"
   ]
  },
  {
   "cell_type": "code",
   "execution_count": 7,
   "id": "29672b39-2bb6-40d4-bad0-0b55c2e606b7",
   "metadata": {},
   "outputs": [],
   "source": [
    "data = xr.Dataset()\n",
    "for i,date in enumerate(dates): \n",
    "    fdir = '/scratch/jk72/slf563/UM_reg/output/{}/Regn1_resn_1_RAL3P2/{}/'.format(job,date)\n",
    "    #fdir = '/g/data/jk72/slf563/UM_reg/output/{}/Regn1_resn_1_RAL3P2/{}/'.format(job,date)\n",
    "    data1 = xr.open_dataset(fdir+'umnsaa_pe012.nc',)\n",
    "    data2 = xr.open_dataset(fdir+'umnsaa_pe018.nc',)\n",
    "    data3 = xr.open_dataset(fdir+'umnsaa_pe024.nc',)\n",
    "    data4 = xr.open_dataset(fdir+'umnsaa_pe030.nc',)\n",
    "    data = xr.concat([data1,data2,data3,data4],dim = 'time')\n",
    "    \n",
    "    data.to_netcdf('/g/data/jk72/slf563/UM_reg/output/{}/processed/{}_met_at_pressure_levs_fcst_{}.nc'.format(job,runname,date))"
   ]
  },
  {
   "cell_type": "markdown",
   "id": "af66b2e2-45ee-4c02-9e83-026c661fa495",
   "metadata": {},
   "source": [
    "# For met data at surface in space"
   ]
  },
  {
   "cell_type": "code",
   "execution_count": 8,
   "id": "5be98e21-e5fb-406b-899f-4668cc3d6d0c",
   "metadata": {},
   "outputs": [],
   "source": [
    "data = xr.Dataset()\n",
    "for i,date in enumerate(dates): \n",
    "    fdir = '/scratch/jk72/slf563/UM_reg/output/{}/Regn1_resn_1_RAL3P2/{}/'.format(job,date)\n",
    "    #fdir = '/g/data/jk72/slf563/UM_reg/output/{}/Regn1_resn_1_RAL3P2/{}/'.format(job,date)\n",
    "    data1 = xr.open_dataset(fdir+'umnsaa_pb012.nc',)\n",
    "    data2 = xr.open_dataset(fdir+'umnsaa_pb018.nc',)\n",
    "    data3 = xr.open_dataset(fdir+'umnsaa_pb024.nc',)\n",
    "    data4 = xr.open_dataset(fdir+'umnsaa_pb030.nc',)\n",
    "    \n",
    "    if i == 0: \n",
    "        data = xr.concat([data1,data2,data3,data4],dim = 'time')\n",
    "    else: \n",
    "        data = xr.concat([data,data1,data2,data3,data4],dim = 'time')\n",
    "    \n",
    "data.to_netcdf('/g/data/jk72/slf563/UM_reg/output/{}/processed/{}_met_at_surface.nc'.format(job,runname))"
   ]
  },
  {
   "cell_type": "markdown",
   "id": "fa19ee6d-ea4d-4b74-9b80-ff49c9a930d4",
   "metadata": {},
   "source": [
    "# For land surface"
   ]
  },
  {
   "cell_type": "code",
   "execution_count": 9,
   "id": "744f1cb6-bf3c-41a8-a82d-32e330f8d6c6",
   "metadata": {},
   "outputs": [],
   "source": [
    "data = xr.Dataset()\n",
    "\n",
    "fdir = '/scratch/jk72/slf563/UM_reg/output/{}/Regn1_resn_1_RAL3P2/{}/'.format(job,date)\n",
    "#fdir = '/g/data/jk72/slf563/UM_reg/output/{}/Regn1_resn_1_RAL3P2/{}/'.format(job,date)\n",
    "data = xr.open_dataset(fdir+'umnsaa_pa000.nc',)\n",
    "    \n",
    "data.to_netcdf('/g/data/jk72/slf563/UM_reg/output/{}/processed/{}_land_surface.nc'.format(job,runname))\n",
    "#data = data.sel(grid_latitude=0,grid_longitude=180,method='nearest')\n",
    "data.to_netcdf('/g/data/jk72/slf563/UM_reg/output/{}/processed/{}_land_surface_Davis.nc'.format(job,runname))"
   ]
  },
  {
   "cell_type": "code",
   "execution_count": null,
   "id": "ad47ee5e-c1e8-470b-b853-66aa46c257f3",
   "metadata": {},
   "outputs": [],
   "source": []
  }
 ],
 "metadata": {
  "kernelspec": {
   "display_name": "Python [conda env:analysis3-23.10]",
   "language": "python",
   "name": "conda-env-analysis3-23.10-py"
  },
  "language_info": {
   "codemirror_mode": {
    "name": "ipython",
    "version": 3
   },
   "file_extension": ".py",
   "mimetype": "text/x-python",
   "name": "python",
   "nbconvert_exporter": "python",
   "pygments_lexer": "ipython3",
   "version": "3.10.13"
  }
 },
 "nbformat": 4,
 "nbformat_minor": 5
}
